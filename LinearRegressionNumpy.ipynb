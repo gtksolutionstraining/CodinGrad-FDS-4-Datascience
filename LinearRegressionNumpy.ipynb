{
 "cells": [
  {
   "cell_type": "code",
   "execution_count": 1,
   "id": "4fa9e475-92cd-4c1c-b094-f233b2d842c0",
   "metadata": {},
   "outputs": [],
   "source": [
    "import numpy as np\n",
    "import pandas as pd"
   ]
  },
  {
   "cell_type": "code",
   "execution_count": 2,
   "id": "594c93fa-1543-47b3-b61b-02662d56bdad",
   "metadata": {},
   "outputs": [],
   "source": [
    "data = pd.read_csv('Housing.csv')"
   ]
  },
  {
   "cell_type": "code",
   "execution_count": 3,
   "id": "c0ef17b5-04a7-4a3e-b64b-7dd868277363",
   "metadata": {},
   "outputs": [
    {
     "data": {
      "text/html": [
       "<div>\n",
       "<style scoped>\n",
       "    .dataframe tbody tr th:only-of-type {\n",
       "        vertical-align: middle;\n",
       "    }\n",
       "\n",
       "    .dataframe tbody tr th {\n",
       "        vertical-align: top;\n",
       "    }\n",
       "\n",
       "    .dataframe thead th {\n",
       "        text-align: right;\n",
       "    }\n",
       "</style>\n",
       "<table border=\"1\" class=\"dataframe\">\n",
       "  <thead>\n",
       "    <tr style=\"text-align: right;\">\n",
       "      <th></th>\n",
       "      <th>price</th>\n",
       "      <th>area</th>\n",
       "      <th>bedrooms</th>\n",
       "      <th>bathrooms</th>\n",
       "      <th>stories</th>\n",
       "      <th>mainroad</th>\n",
       "      <th>guestroom</th>\n",
       "      <th>basement</th>\n",
       "      <th>hotwaterheating</th>\n",
       "      <th>airconditioning</th>\n",
       "      <th>parking</th>\n",
       "      <th>prefarea</th>\n",
       "      <th>furnishingstatus</th>\n",
       "    </tr>\n",
       "  </thead>\n",
       "  <tbody>\n",
       "    <tr>\n",
       "      <th>0</th>\n",
       "      <td>13300000</td>\n",
       "      <td>7420</td>\n",
       "      <td>4</td>\n",
       "      <td>2</td>\n",
       "      <td>3</td>\n",
       "      <td>yes</td>\n",
       "      <td>no</td>\n",
       "      <td>no</td>\n",
       "      <td>no</td>\n",
       "      <td>yes</td>\n",
       "      <td>2</td>\n",
       "      <td>yes</td>\n",
       "      <td>furnished</td>\n",
       "    </tr>\n",
       "    <tr>\n",
       "      <th>1</th>\n",
       "      <td>12250000</td>\n",
       "      <td>8960</td>\n",
       "      <td>4</td>\n",
       "      <td>4</td>\n",
       "      <td>4</td>\n",
       "      <td>yes</td>\n",
       "      <td>no</td>\n",
       "      <td>no</td>\n",
       "      <td>no</td>\n",
       "      <td>yes</td>\n",
       "      <td>3</td>\n",
       "      <td>no</td>\n",
       "      <td>furnished</td>\n",
       "    </tr>\n",
       "    <tr>\n",
       "      <th>2</th>\n",
       "      <td>12250000</td>\n",
       "      <td>9960</td>\n",
       "      <td>3</td>\n",
       "      <td>2</td>\n",
       "      <td>2</td>\n",
       "      <td>yes</td>\n",
       "      <td>no</td>\n",
       "      <td>yes</td>\n",
       "      <td>no</td>\n",
       "      <td>no</td>\n",
       "      <td>2</td>\n",
       "      <td>yes</td>\n",
       "      <td>semi-furnished</td>\n",
       "    </tr>\n",
       "    <tr>\n",
       "      <th>3</th>\n",
       "      <td>12215000</td>\n",
       "      <td>7500</td>\n",
       "      <td>4</td>\n",
       "      <td>2</td>\n",
       "      <td>2</td>\n",
       "      <td>yes</td>\n",
       "      <td>no</td>\n",
       "      <td>yes</td>\n",
       "      <td>no</td>\n",
       "      <td>yes</td>\n",
       "      <td>3</td>\n",
       "      <td>yes</td>\n",
       "      <td>furnished</td>\n",
       "    </tr>\n",
       "    <tr>\n",
       "      <th>4</th>\n",
       "      <td>11410000</td>\n",
       "      <td>7420</td>\n",
       "      <td>4</td>\n",
       "      <td>1</td>\n",
       "      <td>2</td>\n",
       "      <td>yes</td>\n",
       "      <td>yes</td>\n",
       "      <td>yes</td>\n",
       "      <td>no</td>\n",
       "      <td>yes</td>\n",
       "      <td>2</td>\n",
       "      <td>no</td>\n",
       "      <td>furnished</td>\n",
       "    </tr>\n",
       "    <tr>\n",
       "      <th>...</th>\n",
       "      <td>...</td>\n",
       "      <td>...</td>\n",
       "      <td>...</td>\n",
       "      <td>...</td>\n",
       "      <td>...</td>\n",
       "      <td>...</td>\n",
       "      <td>...</td>\n",
       "      <td>...</td>\n",
       "      <td>...</td>\n",
       "      <td>...</td>\n",
       "      <td>...</td>\n",
       "      <td>...</td>\n",
       "      <td>...</td>\n",
       "    </tr>\n",
       "    <tr>\n",
       "      <th>540</th>\n",
       "      <td>1820000</td>\n",
       "      <td>3000</td>\n",
       "      <td>2</td>\n",
       "      <td>1</td>\n",
       "      <td>1</td>\n",
       "      <td>yes</td>\n",
       "      <td>no</td>\n",
       "      <td>yes</td>\n",
       "      <td>no</td>\n",
       "      <td>no</td>\n",
       "      <td>2</td>\n",
       "      <td>no</td>\n",
       "      <td>unfurnished</td>\n",
       "    </tr>\n",
       "    <tr>\n",
       "      <th>541</th>\n",
       "      <td>1767150</td>\n",
       "      <td>2400</td>\n",
       "      <td>3</td>\n",
       "      <td>1</td>\n",
       "      <td>1</td>\n",
       "      <td>no</td>\n",
       "      <td>no</td>\n",
       "      <td>no</td>\n",
       "      <td>no</td>\n",
       "      <td>no</td>\n",
       "      <td>0</td>\n",
       "      <td>no</td>\n",
       "      <td>semi-furnished</td>\n",
       "    </tr>\n",
       "    <tr>\n",
       "      <th>542</th>\n",
       "      <td>1750000</td>\n",
       "      <td>3620</td>\n",
       "      <td>2</td>\n",
       "      <td>1</td>\n",
       "      <td>1</td>\n",
       "      <td>yes</td>\n",
       "      <td>no</td>\n",
       "      <td>no</td>\n",
       "      <td>no</td>\n",
       "      <td>no</td>\n",
       "      <td>0</td>\n",
       "      <td>no</td>\n",
       "      <td>unfurnished</td>\n",
       "    </tr>\n",
       "    <tr>\n",
       "      <th>543</th>\n",
       "      <td>1750000</td>\n",
       "      <td>2910</td>\n",
       "      <td>3</td>\n",
       "      <td>1</td>\n",
       "      <td>1</td>\n",
       "      <td>no</td>\n",
       "      <td>no</td>\n",
       "      <td>no</td>\n",
       "      <td>no</td>\n",
       "      <td>no</td>\n",
       "      <td>0</td>\n",
       "      <td>no</td>\n",
       "      <td>furnished</td>\n",
       "    </tr>\n",
       "    <tr>\n",
       "      <th>544</th>\n",
       "      <td>1750000</td>\n",
       "      <td>3850</td>\n",
       "      <td>3</td>\n",
       "      <td>1</td>\n",
       "      <td>2</td>\n",
       "      <td>yes</td>\n",
       "      <td>no</td>\n",
       "      <td>no</td>\n",
       "      <td>no</td>\n",
       "      <td>no</td>\n",
       "      <td>0</td>\n",
       "      <td>no</td>\n",
       "      <td>unfurnished</td>\n",
       "    </tr>\n",
       "  </tbody>\n",
       "</table>\n",
       "<p>545 rows × 13 columns</p>\n",
       "</div>"
      ],
      "text/plain": [
       "        price  area  bedrooms  bathrooms  stories mainroad guestroom basement  \\\n",
       "0    13300000  7420         4          2        3      yes        no       no   \n",
       "1    12250000  8960         4          4        4      yes        no       no   \n",
       "2    12250000  9960         3          2        2      yes        no      yes   \n",
       "3    12215000  7500         4          2        2      yes        no      yes   \n",
       "4    11410000  7420         4          1        2      yes       yes      yes   \n",
       "..        ...   ...       ...        ...      ...      ...       ...      ...   \n",
       "540   1820000  3000         2          1        1      yes        no      yes   \n",
       "541   1767150  2400         3          1        1       no        no       no   \n",
       "542   1750000  3620         2          1        1      yes        no       no   \n",
       "543   1750000  2910         3          1        1       no        no       no   \n",
       "544   1750000  3850         3          1        2      yes        no       no   \n",
       "\n",
       "    hotwaterheating airconditioning  parking prefarea furnishingstatus  \n",
       "0                no             yes        2      yes        furnished  \n",
       "1                no             yes        3       no        furnished  \n",
       "2                no              no        2      yes   semi-furnished  \n",
       "3                no             yes        3      yes        furnished  \n",
       "4                no             yes        2       no        furnished  \n",
       "..              ...             ...      ...      ...              ...  \n",
       "540              no              no        2       no      unfurnished  \n",
       "541              no              no        0       no   semi-furnished  \n",
       "542              no              no        0       no      unfurnished  \n",
       "543              no              no        0       no        furnished  \n",
       "544              no              no        0       no      unfurnished  \n",
       "\n",
       "[545 rows x 13 columns]"
      ]
     },
     "execution_count": 3,
     "metadata": {},
     "output_type": "execute_result"
    }
   ],
   "source": [
    "data"
   ]
  },
  {
   "cell_type": "code",
   "execution_count": 11,
   "id": "043b2c8b-c96d-4e35-8113-caba074e859d",
   "metadata": {},
   "outputs": [],
   "source": [
    "def mapp_furnisher_status(x):\n",
    "    if x == \"unfurnished\":\n",
    "        return 1\n",
    "    elif x == \"semi-furnished\":\n",
    "        return 2\n",
    "    elif x == \"furnished\":\n",
    "        return 3\n",
    "    else:\n",
    "        return x\n",
    "def prepare_data(data):\n",
    "    data[['mainroad','guestroom','basement','hotwaterheating','airconditioning','prefarea']] = data[['mainroad','guestroom','basement','hotwaterheating','airconditioning','prefarea']].applymap(lambda x:1 if x == \"yes\" else 0)\n",
    "    data['furnishingstatus'] = data['furnishingstatus'].apply(mapp_furnisher_status)\n",
    "    X = data.iloc[:,1:]\n",
    "    # print(data.to_markdown())\n",
    "    X['area'] = X['area']/np.linalg.norm(X['area'])\n",
    "    m,n_x = X.shape\n",
    "    X = X.T.to_numpy().reshape(n_x,m)\n",
    "    Y = data.iloc[:,0]\n",
    "    Y = Y/np.linalg.norm(Y)\n",
    "    Y = Y.T.to_numpy().reshape(1,m)\n",
    "    return X,Y"
   ]
  },
  {
   "cell_type": "code",
   "execution_count": 12,
   "id": "46c9c080-c8da-495c-b78e-6f8105ae8913",
   "metadata": {},
   "outputs": [],
   "source": [
    "X,Y = prepare_data(data)"
   ]
  },
  {
   "cell_type": "code",
   "execution_count": 8,
   "id": "c84bd8e8-4d43-4b2a-a07b-877ab1e7097e",
   "metadata": {},
   "outputs": [],
   "source": [
    "# X = data['area'].T.to_numpy().reshape(1,len(data))\n",
    "# X = X/np.linalg.norm(X)"
   ]
  },
  {
   "cell_type": "code",
   "execution_count": 120,
   "id": "169ed0e9-37dc-4e3f-b16b-e229db261f84",
   "metadata": {},
   "outputs": [],
   "source": [
    "# Y = data['price'].to_numpy().reshape(1,len(data))\n",
    "# Y = Y/np.linalg.norm(Y)"
   ]
  },
  {
   "cell_type": "code",
   "execution_count": 13,
   "id": "a0c4d256-03cb-45b3-aef3-5b95fd97dbdb",
   "metadata": {},
   "outputs": [
    {
     "data": {
      "text/plain": [
       "((12, 545), (1, 545))"
      ]
     },
     "execution_count": 13,
     "metadata": {},
     "output_type": "execute_result"
    }
   ],
   "source": [
    "X.shape,Y.shape"
   ]
  },
  {
   "cell_type": "code",
   "execution_count": 34,
   "id": "b1c7378a-ddce-43d9-9858-bfcaf0f80415",
   "metadata": {},
   "outputs": [
    {
     "data": {
      "text/plain": [
       "array([1.62434536])"
      ]
     },
     "execution_count": 34,
     "metadata": {},
     "output_type": "execute_result"
    }
   ],
   "source": [
    "np.random.seed(1)\n",
    "np.random.randn(1)"
   ]
  },
  {
   "cell_type": "code",
   "execution_count": 46,
   "id": "be151457-ede6-4ccf-96bc-b52e9afaf4c7",
   "metadata": {},
   "outputs": [],
   "source": [
    "def initialize_params(n_x,m):\n",
    "    W = np.random.randn(n_x,1)\n",
    "    b = np.zeros(1).reshape(1,1)\n",
    "    parameters = {\"W\":W,\"b\":b}\n",
    "    return parameters"
   ]
  },
  {
   "cell_type": "code",
   "execution_count": 30,
   "id": "d621940d-8353-4c50-9432-b6dd2559d679",
   "metadata": {},
   "outputs": [],
   "source": [
    "def forward_propagation(X,parameters):\n",
    "    W = parameters[\"W\"]\n",
    "    b = parameters[\"b\"]\n",
    "    Y_pred = np.dot(W.T,X) + b\n",
    "    return Y_pred"
   ]
  },
  {
   "cell_type": "code",
   "execution_count": 20,
   "id": "9922685a-3e9a-4b00-a145-3cfd6a5d18fe",
   "metadata": {},
   "outputs": [],
   "source": [
    "def compute_cost(Y_pred,Y):\n",
    "    m = Y_pred.shape[1]\n",
    "    cost = (1/2*m) * np.sum(np.square(Y_pred-Y))\n",
    "    cost = np.squeeze(cost)\n",
    "    return cost"
   ]
  },
  {
   "cell_type": "code",
   "execution_count": 47,
   "id": "812e0be4-e401-404f-a3c1-9fef33f8c2f9",
   "metadata": {},
   "outputs": [],
   "source": [
    "def backward_propagation(parameters,Y_pred,X,Y):\n",
    "    m = X.shape[1]\n",
    "    W = parameters[\"W\"]\n",
    "    b = parameters[\"b\"]\n",
    "    dW = (1/m) * (np.dot(X,(Y_pred-Y).T))\n",
    "    db = (1/m) * np.sum((Y_pred-Y),axis=1,keepdims=True)\n",
    "    # db = db.reshape(1,m)\n",
    "    grads = {\"dW\":dW,\"db\":db}\n",
    "    return grads"
   ]
  },
  {
   "cell_type": "code",
   "execution_count": 53,
   "id": "698eea54-6cec-4d22-9e21-ceda7e75e7c7",
   "metadata": {},
   "outputs": [],
   "source": [
    "def update_parameters(parameters,grads, learning_rate=0.1):\n",
    "    W = parameters[\"W\"]\n",
    "    b = parameters[\"b\"]\n",
    "    dW = grads[\"dW\"]\n",
    "    db = grads[\"db\"]\n",
    "    W = W - (learning_rate)*dW\n",
    "    b = b - (learning_rate)*db\n",
    "    parameters = {\"W\":W, \"b\":b}\n",
    "    return parameters"
   ]
  },
  {
   "cell_type": "code",
   "execution_count": 22,
   "id": "90f7dc70-7907-434c-b6ef-43156fd75e44",
   "metadata": {},
   "outputs": [
    {
     "name": "stdout",
     "output_type": "stream",
     "text": [
      "12 545\n"
     ]
    }
   ],
   "source": [
    "n_x = X.shape[0]\n",
    "m = X.shape[1]\n",
    "print(n_x,m)"
   ]
  },
  {
   "cell_type": "code",
   "execution_count": 38,
   "id": "6f9446db-4bd0-4e68-a028-37a6d285bbec",
   "metadata": {},
   "outputs": [],
   "source": [
    "def linear_regression(X,Y,num_iterations=10000):\n",
    "    np.random.seed(1111)\n",
    "    n_x = X.shape[0]\n",
    "    m = X.shape[1]\n",
    "    parameters = initialize_params(n_x,m)\n",
    "    for iter in range(num_iterations):\n",
    "        Y_pred = forward_propagation(X,parameters)\n",
    "        cost = compute_cost(Y_pred,Y)\n",
    "        grads = backward_propagation(parameters,Y_pred,X,Y)\n",
    "        parameters = update_parameters(parameters,grads)\n",
    "        if iter % 1000 == 0:\n",
    "            print(f\"Cost after iteration {iter}: {cost}\")\n",
    "    return parameters"
   ]
  },
  {
   "cell_type": "code",
   "execution_count": 55,
   "id": "ce672905-9cb7-4a53-9802-cb980f845ed4",
   "metadata": {},
   "outputs": [
    {
     "name": "stdout",
     "output_type": "stream",
     "text": [
      "Cost after iteration 0: 3585941.1573026725\n",
      "Cost after iteration 1000: 105.00528414272627\n",
      "Cost after iteration 2000: 100.88026242589945\n",
      "Cost after iteration 3000: 96.9755418911394\n",
      "Cost after iteration 4000: 93.24891940043572\n",
      "Cost after iteration 5000: 89.6922650396361\n",
      "Cost after iteration 6000: 86.2978267032638\n",
      "Cost after iteration 7000: 83.05820585440358\n",
      "Cost after iteration 8000: 79.96634139720913\n",
      "Cost after iteration 9000: 77.0154942864965\n",
      "Cost after iteration 10000: 74.1992328392847\n",
      "Cost after iteration 11000: 71.5114187162629\n",
      "Cost after iteration 12000: 68.94619354263148\n",
      "Cost after iteration 13000: 66.49796613915541\n",
      "Cost after iteration 14000: 64.161400335598\n",
      "Cost after iteration 15000: 61.93140333997517\n",
      "Cost after iteration 16000: 59.803114638276\n",
      "Cost after iteration 17000: 57.771895400460515\n",
      "Cost after iteration 18000: 55.83331836963869\n",
      "Cost after iteration 19000: 53.98315821239653\n",
      "Cost after iteration 20000: 52.21738230923572\n",
      "Cost after iteration 21000: 50.532141965053086\n",
      "Cost after iteration 22000: 48.9237640205037\n",
      "Cost after iteration 23000: 47.38874284596192\n",
      "Cost after iteration 24000: 45.92373270063033\n",
      "Cost after iteration 25000: 44.52554044014588\n",
      "Cost after iteration 26000: 43.19111855678335\n",
      "Cost after iteration 27000: 41.917558537090535\n",
      "Cost after iteration 28000: 40.7020845224761\n",
      "Cost after iteration 29000: 39.542047258932556\n",
      "Cost after iteration 30000: 38.43491832270737\n",
      "Cost after iteration 31000: 37.37828460933592\n",
      "Cost after iteration 32000: 36.36984307402592\n",
      "Cost after iteration 33000: 35.40739571192768\n",
      "Cost after iteration 34000: 34.48884476735051\n",
      "Cost after iteration 35000: 33.61218816148251\n",
      "Cost after iteration 36000: 32.775515128648465\n",
      "Cost after iteration 37000: 31.97700205159414\n",
      "Cost after iteration 38000: 31.214908486719633\n",
      "Cost after iteration 39000: 30.487573370599023\n",
      "Cost after iteration 40000: 29.793411399517133\n",
      "Cost after iteration 41000: 29.13090957413235\n",
      "Cost after iteration 42000: 28.498623901735055\n",
      "Cost after iteration 43000: 27.89517624891278\n",
      "Cost after iteration 44000: 27.31925133776299\n",
      "Cost after iteration 45000: 26.769593879105855\n",
      "Cost after iteration 46000: 26.245005836448982\n",
      "Cost after iteration 47000: 25.744343814740237\n",
      "Cost after iteration 48000: 25.266516568217487\n",
      "Cost after iteration 49000: 24.810482621923196\n",
      "Cost after iteration 50000: 24.37524800169975\n",
      "Cost after iteration 51000: 23.9598640677178\n",
      "Cost after iteration 52000: 23.56342544681545\n",
      "Cost after iteration 53000: 23.185068059141983\n",
      "Cost after iteration 54000: 22.823967234804385\n",
      "Cost after iteration 55000: 22.4793359164123\n",
      "Cost after iteration 56000: 22.150422943603296\n",
      "Cost after iteration 57000: 21.836511415809465\n",
      "Cost after iteration 58000: 21.536917129696945\n",
      "Cost after iteration 59000: 21.250987087872517\n",
      "Cost after iteration 60000: 20.978098075606702\n",
      "Cost after iteration 61000: 20.71765530247152\n",
      "Cost after iteration 62000: 20.469091105931913\n",
      "Cost after iteration 63000: 20.231863714065238\n",
      "Cost after iteration 64000: 20.005456064712188\n",
      "Cost after iteration 65000: 19.789374678485142\n",
      "Cost after iteration 66000: 19.58314858317778\n",
      "Cost after iteration 67000: 19.386328287231343\n",
      "Cost after iteration 68000: 19.198484800020342\n",
      "Cost after iteration 69000: 19.01920869682217\n",
      "Cost after iteration 70000: 18.84810922643265\n",
      "Cost after iteration 71000: 18.684813459482534\n",
      "Cost after iteration 72000: 18.528965475598536\n",
      "Cost after iteration 73000: 18.380225587637288\n",
      "Cost after iteration 74000: 18.23826960130131\n",
      "Cost after iteration 75000: 18.10278810852334\n",
      "Cost after iteration 76000: 17.97348581307871\n",
      "Cost after iteration 77000: 17.850080886956075\n",
      "Cost after iteration 78000: 17.732304356083464\n",
      "Cost after iteration 79000: 17.619899514070898\n"
     ]
    }
   ],
   "source": [
    "linear_regressor_params = linear_regression(X,Y,num_iterations=80000)"
   ]
  },
  {
   "cell_type": "code",
   "execution_count": 41,
   "id": "14576988-7681-4bfd-8974-fdcb74c1a37d",
   "metadata": {},
   "outputs": [
    {
     "data": {
      "text/plain": [
       "(12, 1)"
      ]
     },
     "execution_count": 41,
     "metadata": {},
     "output_type": "execute_result"
    }
   ],
   "source": [
    "linear_regressor_params['W'].shape"
   ]
  },
  {
   "cell_type": "code",
   "execution_count": 56,
   "id": "b57caea3-45b0-4d7f-9951-b15cf3e06e5f",
   "metadata": {},
   "outputs": [
    {
     "data": {
      "text/plain": [
       "(1, 1)"
      ]
     },
     "execution_count": 56,
     "metadata": {},
     "output_type": "execute_result"
    }
   ],
   "source": [
    "linear_regressor_params['b'].shape"
   ]
  },
  {
   "cell_type": "code",
   "execution_count": 57,
   "id": "dfe8481d-8c8f-4109-b4eb-8fed01f5f073",
   "metadata": {},
   "outputs": [
    {
     "data": {
      "text/plain": [
       "{'W': array([[ 0.09341583],\n",
       "        [ 0.00159681],\n",
       "        [ 0.01005289],\n",
       "        [ 0.00447511],\n",
       "        [ 1.50182182],\n",
       "        [-0.02392945],\n",
       "        [ 0.27594888],\n",
       "        [-0.96639308],\n",
       "        [-1.58031468],\n",
       "        [ 0.00438206],\n",
       "        [-1.54766708],\n",
       "        [ 0.00335146]]),\n",
       " 'b': array([[0.00093993]])}"
      ]
     },
     "execution_count": 57,
     "metadata": {},
     "output_type": "execute_result"
    }
   ],
   "source": [
    "linear_regressor_params"
   ]
  },
  {
   "cell_type": "code",
   "execution_count": 17,
   "id": "b8fcc722-b23b-48a7-bef0-9c90fb1de583",
   "metadata": {},
   "outputs": [],
   "source": [
    "x = np.array([0.1])"
   ]
  },
  {
   "cell_type": "code",
   "execution_count": 18,
   "id": "5415ce8a-f7af-48e7-a948-f46a37429d22",
   "metadata": {},
   "outputs": [
    {
     "data": {
      "text/plain": [
       "array([0.1])"
      ]
     },
     "execution_count": 18,
     "metadata": {},
     "output_type": "execute_result"
    }
   ],
   "source": [
    "x"
   ]
  },
  {
   "cell_type": "code",
   "execution_count": 19,
   "id": "de6f5def-b28d-452d-9974-f4a09ddcf6a6",
   "metadata": {},
   "outputs": [
    {
     "data": {
      "text/plain": [
       "array(0.1)"
      ]
     },
     "execution_count": 19,
     "metadata": {},
     "output_type": "execute_result"
    }
   ],
   "source": [
    "np.squeeze(x)"
   ]
  },
  {
   "cell_type": "code",
   "execution_count": null,
   "id": "5e2a797c-117b-4357-b112-1b15e71c7950",
   "metadata": {},
   "outputs": [],
   "source": []
  }
 ],
 "metadata": {
  "kernelspec": {
   "display_name": "Python 3 (ipykernel)",
   "language": "python",
   "name": "python3"
  },
  "language_info": {
   "codemirror_mode": {
    "name": "ipython",
    "version": 3
   },
   "file_extension": ".py",
   "mimetype": "text/x-python",
   "name": "python",
   "nbconvert_exporter": "python",
   "pygments_lexer": "ipython3",
   "version": "3.11.3"
  }
 },
 "nbformat": 4,
 "nbformat_minor": 5
}
