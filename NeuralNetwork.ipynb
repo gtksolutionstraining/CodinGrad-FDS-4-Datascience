{
 "cells": [
  {
   "cell_type": "code",
   "execution_count": 1,
   "id": "8c24354f-059c-440a-9cb8-ac10d6e3d707",
   "metadata": {},
   "outputs": [],
   "source": [
    "import tensorflow as tf"
   ]
  },
  {
   "cell_type": "code",
   "execution_count": 34,
   "id": "e163fa5f-0eae-4c3d-a450-5e61b7f5ba4e",
   "metadata": {},
   "outputs": [],
   "source": [
    "input_layer = tf.keras.layers.Input(shape=15)"
   ]
  },
  {
   "cell_type": "code",
   "execution_count": 35,
   "id": "21c4b1c4-789b-4efb-a7b8-68da1344c6ba",
   "metadata": {},
   "outputs": [],
   "source": [
    "layer1 = tf.keras.layers.Dense(32)(input_layer)\n",
    "layer2 = tf.keras.layers.Dense(16)(layer1)\n",
    "layer3 = tf.keras.layers.Dense(8)(layer2)\n",
    "layer4 = tf.keras.layers.Dense(4)(layer3)"
   ]
  },
  {
   "cell_type": "code",
   "execution_count": 36,
   "id": "737ec677-19ad-4906-a103-b4ab36e20225",
   "metadata": {},
   "outputs": [],
   "source": [
    "output_layer = tf.keras.layers.Dense(1)(layer4)"
   ]
  },
  {
   "cell_type": "code",
   "execution_count": 37,
   "id": "b6f7757f-7df8-4fd7-a521-769f466d1bff",
   "metadata": {},
   "outputs": [],
   "source": [
    "model = tf.keras.models.Model(input_layer,output_layer)"
   ]
  },
  {
   "cell_type": "code",
   "execution_count": 38,
   "id": "e1ce6482-5d6f-42f5-b546-470831c0fd74",
   "metadata": {},
   "outputs": [
    {
     "name": "stdout",
     "output_type": "stream",
     "text": [
      "Model: \"model_4\"\n",
      "_________________________________________________________________\n",
      " Layer (type)                Output Shape              Param #   \n",
      "=================================================================\n",
      " input_7 (InputLayer)        [(None, 15)]              0         \n",
      "                                                                 \n",
      " dense_29 (Dense)            (None, 32)                512       \n",
      "                                                                 \n",
      " dense_30 (Dense)            (None, 16)                528       \n",
      "                                                                 \n",
      " dense_31 (Dense)            (None, 8)                 136       \n",
      "                                                                 \n",
      " dense_32 (Dense)            (None, 4)                 36        \n",
      "                                                                 \n",
      " dense_33 (Dense)            (None, 1)                 5         \n",
      "                                                                 \n",
      "=================================================================\n",
      "Total params: 1217 (4.75 KB)\n",
      "Trainable params: 1217 (4.75 KB)\n",
      "Non-trainable params: 0 (0.00 Byte)\n",
      "_________________________________________________________________\n"
     ]
    }
   ],
   "source": [
    "model.summary()"
   ]
  },
  {
   "cell_type": "code",
   "execution_count": null,
   "id": "930d88b1-6255-446c-a41d-21741ef77dd1",
   "metadata": {},
   "outputs": [],
   "source": []
  }
 ],
 "metadata": {
  "kernelspec": {
   "display_name": "Python 3 (ipykernel)",
   "language": "python",
   "name": "python3"
  },
  "language_info": {
   "codemirror_mode": {
    "name": "ipython",
    "version": 3
   },
   "file_extension": ".py",
   "mimetype": "text/x-python",
   "name": "python",
   "nbconvert_exporter": "python",
   "pygments_lexer": "ipython3",
   "version": "3.11.3"
  }
 },
 "nbformat": 4,
 "nbformat_minor": 5
}
