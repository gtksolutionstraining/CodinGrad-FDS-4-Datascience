{
 "cells": [
  {
   "cell_type": "code",
   "execution_count": 1,
   "id": "b99599d6-20e3-483c-ab38-6bfc1b859df6",
   "metadata": {},
   "outputs": [],
   "source": [
    "import numpy as np"
   ]
  },
  {
   "cell_type": "code",
   "execution_count": 5,
   "id": "26c7cf1d-bc32-4d58-8e54-f06689e788b2",
   "metadata": {},
   "outputs": [],
   "source": [
    "dZ2 = np.random.randn(12).reshape(1,12)"
   ]
  },
  {
   "cell_type": "code",
   "execution_count": 6,
   "id": "e65babb9-3b1b-496c-a288-f3a322964f3b",
   "metadata": {},
   "outputs": [
    {
     "data": {
      "text/plain": [
       "(1, 12)"
      ]
     },
     "execution_count": 6,
     "metadata": {},
     "output_type": "execute_result"
    }
   ],
   "source": [
    "dZ2.shape"
   ]
  },
  {
   "cell_type": "code",
   "execution_count": 7,
   "id": "11c56741-b7a7-49fc-a815-d329c9eb7c6a",
   "metadata": {},
   "outputs": [],
   "source": [
    "## db2 == (1,1)"
   ]
  },
  {
   "cell_type": "code",
   "execution_count": 12,
   "id": "cac51c36-8937-4a18-9c4c-52249aa813ff",
   "metadata": {},
   "outputs": [
    {
     "data": {
      "text/plain": [
       "array([[-2.28526411, -1.08025446,  0.07812918,  0.57008816, -0.65762922,\n",
       "        -0.49247652,  1.08547346, -0.02607976,  0.84068375, -0.29398504,\n",
       "         1.62657143, -1.20827082]])"
      ]
     },
     "execution_count": 12,
     "metadata": {},
     "output_type": "execute_result"
    }
   ],
   "source": [
    "dZ2"
   ]
  },
  {
   "cell_type": "code",
   "execution_count": 8,
   "id": "f52bcb58-f551-4c01-b392-dd24da75a06f",
   "metadata": {},
   "outputs": [
    {
     "data": {
      "text/plain": [
       "-1.8430139318237584"
      ]
     },
     "execution_count": 8,
     "metadata": {},
     "output_type": "execute_result"
    }
   ],
   "source": [
    "np.sum(dZ2)"
   ]
  },
  {
   "cell_type": "code",
   "execution_count": 9,
   "id": "7dff1dce-1deb-4968-8bf9-0326eec041a6",
   "metadata": {},
   "outputs": [
    {
     "data": {
      "text/plain": [
       "array([-2.28526411, -1.08025446,  0.07812918,  0.57008816, -0.65762922,\n",
       "       -0.49247652,  1.08547346, -0.02607976,  0.84068375, -0.29398504,\n",
       "        1.62657143, -1.20827082])"
      ]
     },
     "execution_count": 9,
     "metadata": {},
     "output_type": "execute_result"
    }
   ],
   "source": [
    "np.sum(dZ2,axis=0)"
   ]
  },
  {
   "cell_type": "code",
   "execution_count": 14,
   "id": "5375cfde-bcfd-4a2a-8278-9a861f8829db",
   "metadata": {},
   "outputs": [
    {
     "name": "stdout",
     "output_type": "stream",
     "text": [
      "[-1.84301393] (1,)\n"
     ]
    }
   ],
   "source": [
    "sum2 = np.sum(dZ2,axis=1)\n",
    "print(sum2,sum2.shape)"
   ]
  },
  {
   "cell_type": "code",
   "execution_count": 13,
   "id": "62e4734b-011a-4b80-ad5c-4f61c00174e3",
   "metadata": {},
   "outputs": [
    {
     "name": "stdout",
     "output_type": "stream",
     "text": [
      "[[-1.84301393]] (1, 1)\n"
     ]
    }
   ],
   "source": [
    "sum3 = np.sum(dZ2,axis=1,keepdims=True)\n",
    "print(sum3,sum3.shape)"
   ]
  },
  {
   "cell_type": "code",
   "execution_count": null,
   "id": "f2ed9bde-f07e-4823-854d-280ea36c3114",
   "metadata": {},
   "outputs": [],
   "source": []
  }
 ],
 "metadata": {
  "kernelspec": {
   "display_name": "Python 3 (ipykernel)",
   "language": "python",
   "name": "python3"
  },
  "language_info": {
   "codemirror_mode": {
    "name": "ipython",
    "version": 3
   },
   "file_extension": ".py",
   "mimetype": "text/x-python",
   "name": "python",
   "nbconvert_exporter": "python",
   "pygments_lexer": "ipython3",
   "version": "3.11.3"
  }
 },
 "nbformat": 4,
 "nbformat_minor": 5
}
