{
 "cells": [
  {
   "cell_type": "code",
   "execution_count": 2,
   "id": "1379b30f-984e-4d9d-b607-b470b5312e43",
   "metadata": {},
   "outputs": [],
   "source": [
    "data_path = \"/Users/gtk/GTK/CodinGrad/CodinGrad-FDS-4-Datascience/My Uber Drives - 2016.csv.xls\""
   ]
  },
  {
   "cell_type": "code",
   "execution_count": 4,
   "id": "f4149dc5-9d2e-4346-bb02-0d438648245b",
   "metadata": {},
   "outputs": [
    {
     "data": {
      "text/plain": [
       "'xls'"
      ]
     },
     "execution_count": 4,
     "metadata": {},
     "output_type": "execute_result"
    }
   ],
   "source": [
    "data_path.split('.')[-1]"
   ]
  },
  {
   "cell_type": "code",
   "execution_count": null,
   "id": "df025399-97b4-46a3-895b-1440abf0766f",
   "metadata": {},
   "outputs": [],
   "source": []
  }
 ],
 "metadata": {
  "kernelspec": {
   "display_name": "Python 3 (ipykernel)",
   "language": "python",
   "name": "python3"
  },
  "language_info": {
   "codemirror_mode": {
    "name": "ipython",
    "version": 3
   },
   "file_extension": ".py",
   "mimetype": "text/x-python",
   "name": "python",
   "nbconvert_exporter": "python",
   "pygments_lexer": "ipython3",
   "version": "3.11.3"
  }
 },
 "nbformat": 4,
 "nbformat_minor": 5
}
